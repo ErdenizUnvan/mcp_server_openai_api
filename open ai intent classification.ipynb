{
 "cells": [
  {
   "cell_type": "code",
   "execution_count": null,
   "id": "ef775b3b-6dfe-441c-9d31-7fb1e474048e",
   "metadata": {},
   "outputs": [
    {
     "name": "stdout",
     "output_type": "stream",
     "text": [
      "['The weather temperature of a city', 'Capitalize each word', 'Count each word', 'Other']\n"
     ]
    },
    {
     "name": "stdout",
     "output_type": "stream",
     "text": [
      "user_input:  Capitalize each word for the string of: how are you?\n"
     ]
    },
    {
     "name": "stdout",
     "output_type": "stream",
     "text": [
      "Category.capitalize_each_word\n"
     ]
    }
   ],
   "source": [
    "#pip install langchain_openai\n",
    "#pip install pydantic\n",
    "#pip install langchain-core\n",
    "from langchain_openai import ChatOpenAI\n",
    "import os\n",
    "from enum import Enum\n",
    "from pydantic import BaseModel\n",
    "from langchain_core.output_parsers import PydanticOutputParser\n",
    "\n",
    "\n",
    "class Category(str, Enum):\n",
    "    get_weather_temperature = 'The weather temperature of a city'\n",
    "    capitalize_each_word = 'Capitalize each word'\n",
    "    count_each_word = 'Count each word'\n",
    "    other = 'Other'\n",
    "\n",
    "class ResultModel(BaseModel):\n",
    "    result: Category\n",
    "\n",
    "candidate_labels = [e.value for e in Category]\n",
    "print(candidate_labels)\n",
    "\n",
    "#OpenAI API Key ortam değişkenine atanmalı\n",
    "os.environ['OPENAI_API_KEY'] = ''\n",
    "\n",
    "user_input=input('user_input: ')\n",
    "\n",
    "intent_model = ChatOpenAI(model=\"gpt-3.5-turbo\",\n",
    " temperature=0)\n",
    "\n",
    "\n",
    "### === AGENT WORKFLOW === ###\n",
    "parser = PydanticOutputParser(pydantic_object=ResultModel)\n",
    "\n",
    "prompt = (\n",
    "    \"You are an AI assistant that classifies user queries into a category.\\n\"\n",
    "    \"Choose one of the following categories:\\n\"\n",
    "    f\"{', '.join(candidate_labels)}\\n\\n\"\n",
    "    f\"User query: \\\"{user_input}\\\"\\n\\n\"\n",
    "    f\"Respond **only** in this exact JSON format:\\n\\n\"\n",
    "    \"{\\\"result\\\": \\\"<one of: The weather temperature of a city, Capitalize each word, Count each word, Other>\\\"}\"\n",
    ")\n",
    "\n",
    "\n",
    "try:\n",
    "    response = intent_model.invoke(prompt)\n",
    "    parsed = parser.parse(response.content)\n",
    "\n",
    "    category = parsed.result\n",
    "    print(category)\n",
    "\n",
    "       \n",
    "except Exception as e:\n",
    "    print(f\"Agent error: {e}\")\n",
    "\n",
    "\n"
   ]
  },
  {
   "cell_type": "code",
   "execution_count": null,
   "id": "a3bb0d34-3084-46ca-b6ea-892ccd3b2cb5",
   "metadata": {},
   "outputs": [],
   "source": []
  },
  {
   "cell_type": "code",
   "execution_count": null,
   "id": "387095ad-2c80-4820-963e-32fc28535c39",
   "metadata": {},
   "outputs": [],
   "source": []
  }
 ],
 "metadata": {
  "kernelspec": {
   "display_name": "Python 3 (ipykernel)",
   "language": "python",
   "name": "python3"
  },
  "language_info": {
   "codemirror_mode": {
    "name": "ipython",
    "version": 3
   },
   "file_extension": ".py",
   "mimetype": "text/x-python",
   "name": "python",
   "nbconvert_exporter": "python",
   "pygments_lexer": "ipython3",
   "version": "3.12.9"
  }
 },
 "nbformat": 4,
 "nbformat_minor": 5
}
